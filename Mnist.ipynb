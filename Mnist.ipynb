{
  "nbformat": 4,
  "nbformat_minor": 0,
  "metadata": {
    "colab": {
      "provenance": [],
      "gpuType": "T4"
    },
    "kernelspec": {
      "name": "python3",
      "display_name": "Python 3"
    },
    "language_info": {
      "name": "python"
    },
    "accelerator": "GPU"
  },
  "cells": [
    {
      "cell_type": "code",
      "execution_count": null,
      "metadata": {
        "id": "aI-76_GJOqNS"
      },
      "outputs": [],
      "source": [
        "import tensorflow as tf\n",
        "from tensorflow.keras import layers,models\n",
        "from tensorflow.keras.datasets import mnist\n",
        "from tensorflow.keras.optimizers import Adam"
      ]
    },
    {
      "cell_type": "code",
      "source": [
        "(train_images,train_labels),(test_images,test_labels)=mnist.load_data()"
      ],
      "metadata": {
        "colab": {
          "base_uri": "https://localhost:8080/"
        },
        "id": "COj0M7OTPO8n",
        "outputId": "e111344e-1202-4cd9-8a0f-b7d4dce6aec2"
      },
      "execution_count": null,
      "outputs": [
        {
          "output_type": "stream",
          "name": "stdout",
          "text": [
            "Downloading data from https://storage.googleapis.com/tensorflow/tf-keras-datasets/mnist.npz\n",
            "11490434/11490434 [==============================] - 0s 0us/step\n"
          ]
        }
      ]
    },
    {
      "cell_type": "code",
      "source": [
        "train_images= train_images.reshape((train_images.shape[0],28,28,1)).astype('float32')/255.0\n",
        "test_images= test_images.reshape((test_images.shape[0],28,28,1)).astype('float32')/255.0"
      ],
      "metadata": {
        "id": "j-b_9trrQsyR"
      },
      "execution_count": null,
      "outputs": []
    },
    {
      "cell_type": "code",
      "source": [
        "train_labels=tf.keras.utils.to_categorical(train_labels)\n",
        "test_labels=tf.keras.utils.to_categorical(test_labels)"
      ],
      "metadata": {
        "id": "ENFexqmQS4D5"
      },
      "execution_count": null,
      "outputs": []
    },
    {
      "cell_type": "code",
      "source": [
        "train_images=train_images.reshape(60000,28*28)\n",
        "test_images= test_images.reshape(10000,28*28)"
      ],
      "metadata": {
        "id": "miHmQKxhTGo3"
      },
      "execution_count": null,
      "outputs": []
    },
    {
      "cell_type": "code",
      "source": [
        "model=models.Sequential()"
      ],
      "metadata": {
        "id": "JeaDw-1xTBf-"
      },
      "execution_count": null,
      "outputs": []
    },
    {
      "cell_type": "code",
      "source": [
        "model.add(layers.Dense(128,activation='relu',input_shape=(28*28,)))\n",
        "model.add(layers.Dropout(0.2))\n",
        "model.add(layers.Dense(10,activation='softmax'))"
      ],
      "metadata": {
        "id": "AzZZkr7TTlvn"
      },
      "execution_count": null,
      "outputs": []
    },
    {
      "cell_type": "code",
      "source": [
        "adam=Adam(learning_rate=0.01)"
      ],
      "metadata": {
        "id": "7owYcvrsMSt7"
      },
      "execution_count": null,
      "outputs": []
    },
    {
      "cell_type": "code",
      "source": [
        "model.compile(optimizer='adam',loss='categorical_crossentropy',metrics=['loss'])"
      ],
      "metadata": {
        "id": "jJuFF69Uzqbs"
      },
      "execution_count": null,
      "outputs": []
    },
    {
      "cell_type": "code",
      "source": [
        "model.fit(train_images,train_labels,epochs=10,batch_size=64,validation_data=(test_images,test_labels))"
      ],
      "metadata": {
        "id": "dXhliKCiTk7U",
        "colab": {
          "base_uri": "https://localhost:8080/"
        },
        "outputId": "c250aa52-f173-411f-f086-a8c95749e632"
      },
      "execution_count": null,
      "outputs": [
        {
          "output_type": "stream",
          "name": "stdout",
          "text": [
            "Epoch 1/10\n",
            "938/938 [==============================] - 10s 5ms/step - loss: 0.3393 - accuracy: 0.9013 - val_loss: 0.1577 - val_accuracy: 0.9547\n",
            "Epoch 2/10\n",
            "938/938 [==============================] - 4s 4ms/step - loss: 0.1603 - accuracy: 0.9526 - val_loss: 0.1132 - val_accuracy: 0.9665\n",
            "Epoch 3/10\n",
            "938/938 [==============================] - 4s 4ms/step - loss: 0.1207 - accuracy: 0.9646 - val_loss: 0.0926 - val_accuracy: 0.9715\n",
            "Epoch 4/10\n",
            "938/938 [==============================] - 4s 5ms/step - loss: 0.0977 - accuracy: 0.9708 - val_loss: 0.0837 - val_accuracy: 0.9742\n",
            "Epoch 5/10\n",
            "938/938 [==============================] - 4s 4ms/step - loss: 0.0816 - accuracy: 0.9750 - val_loss: 0.0764 - val_accuracy: 0.9765\n",
            "Epoch 6/10\n",
            "938/938 [==============================] - 4s 4ms/step - loss: 0.0710 - accuracy: 0.9782 - val_loss: 0.0746 - val_accuracy: 0.9769\n",
            "Epoch 7/10\n",
            "938/938 [==============================] - 4s 4ms/step - loss: 0.0619 - accuracy: 0.9809 - val_loss: 0.0753 - val_accuracy: 0.9757\n",
            "Epoch 8/10\n",
            "938/938 [==============================] - 5s 5ms/step - loss: 0.0564 - accuracy: 0.9819 - val_loss: 0.0713 - val_accuracy: 0.9773\n",
            "Epoch 9/10\n",
            "938/938 [==============================] - 4s 4ms/step - loss: 0.0508 - accuracy: 0.9837 - val_loss: 0.0697 - val_accuracy: 0.9788\n",
            "Epoch 10/10\n",
            "938/938 [==============================] - 4s 4ms/step - loss: 0.0469 - accuracy: 0.9848 - val_loss: 0.0707 - val_accuracy: 0.9779\n"
          ]
        },
        {
          "output_type": "execute_result",
          "data": {
            "text/plain": [
              "<keras.src.callbacks.History at 0x7c166bfd5750>"
            ]
          },
          "metadata": {},
          "execution_count": 10
        }
      ]
    },
    {
      "cell_type": "code",
      "source": [
        "test_loss,test_accuracy= model.evaluate(test_images,test_labels)\n",
        "print(f'Test accuracy: {test_accuracy}')"
      ],
      "metadata": {
        "colab": {
          "base_uri": "https://localhost:8080/"
        },
        "id": "lhtYB-g8LRt9",
        "outputId": "73b18189-bfc7-450f-9578-0fe2ab5f37e3"
      },
      "execution_count": null,
      "outputs": [
        {
          "output_type": "stream",
          "name": "stdout",
          "text": [
            "313/313 [==============================] - 1s 3ms/step - loss: 0.0707 - accuracy: 0.9779\n",
            "Test accuracy: 0.9779000282287598\n"
          ]
        }
      ]
    },
    {
      "cell_type": "code",
      "source": [],
      "metadata": {
        "id": "dbOCZa2ALiM4"
      },
      "execution_count": null,
      "outputs": []
    }
  ]
}